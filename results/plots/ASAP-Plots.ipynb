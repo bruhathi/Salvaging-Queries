{
 "cells": [
  {
   "cell_type": "code",
   "execution_count": 3,
   "metadata": {},
   "outputs": [],
   "source": [
    "import matplotlib as mpl\n",
    "import matplotlib.pyplot as plt\n",
    "import numpy as np\n",
    "import pandas as pd\n",
    "import seaborn as sns"
   ]
  },
  {
   "cell_type": "code",
   "execution_count": 32,
   "metadata": {},
   "outputs": [
    {
     "data": {
      "text/html": [
       "\n",
       "<style>\n",
       "    div#notebook-container    { width: 95%; }\n",
       "    div#menubar-container     { width: 65%; }\n",
       "    div#maintoolbar-container { width: 99%; }\n",
       "</style>\n"
      ],
      "text/plain": [
       "<IPython.core.display.HTML object>"
      ]
     },
     "metadata": {},
     "output_type": "display_data"
    }
   ],
   "source": [
    "from IPython.display import display, HTML\n",
    "\n",
    "display(HTML(data=\"\"\"\n",
    "<style>\n",
    "    div#notebook-container    { width: 95%; }\n",
    "    div#menubar-container     { width: 65%; }\n",
    "    div#maintoolbar-container { width: 99%; }\n",
    "</style>\n",
    "\"\"\"))"
   ]
  },
  {
   "cell_type": "code",
   "execution_count": 9,
   "metadata": {},
   "outputs": [],
   "source": [
    "data_types = {\"dataset\": \"object\", \n",
    "                       \"design\": \"object\",\n",
    "                        \"error\": \"float64\",\n",
    "                        \"exact_result\": \"int64\",\n",
    "             \"filename\": \"object\",\n",
    "             \"mean_approx_result\": \"int64\",\n",
    "             \"query\": \"int64\",\n",
    "              \"result_size\": \"int64\",\n",
    "              \"sampling_rate\": \"int64\",\n",
    "              \"selectivity\": \"int64\"}"
   ]
  },
  {
   "cell_type": "code",
   "execution_count": 16,
   "metadata": {},
   "outputs": [],
   "source": [
    "uniform_file = \"../analysis/out_uniform.csv\"\n",
    "skew_file = \"../analysis/out_skew.csv\""
   ]
  },
  {
   "cell_type": "code",
   "execution_count": 17,
   "metadata": {},
   "outputs": [],
   "source": [
    "uniform_df = pd.read_csv(uniform_file, dtype=data_types, header=0)"
   ]
  },
  {
   "cell_type": "code",
   "execution_count": 19,
   "metadata": {},
   "outputs": [],
   "source": [
    "skew_df = pd.read_csv(skew_file, dtype=data_types, header=0)"
   ]
  },
  {
   "cell_type": "code",
   "execution_count": 114,
   "metadata": {},
   "outputs": [],
   "source": [
    "qid = 3\n",
    "availabilities = [1, 10, 50]\n",
    "selectivities = [1, -1, 50]\n",
    "selectivity_str = [\"1\", \"default\", \"50\"]"
   ]
  },
  {
   "cell_type": "code",
   "execution_count": 115,
   "metadata": {},
   "outputs": [],
   "source": [
    "base_df = uniform_df[uniform_df[\"query\"] == qid][[\"sampling_rate\", \"design\", \"error\", \"selectivity\"]]"
   ]
  },
  {
   "cell_type": "code",
   "execution_count": 116,
   "metadata": {},
   "outputs": [],
   "source": [
    "width = 0.2\n",
    "offset = -1 * width\n",
    "x_locs = np.arange(1, len(selectivities) + 1)\n",
    "colors = sns.color_palette(\"colorblind\", 3)\n",
    "designs = plot_df[\"design\"].unique().tolist()"
   ]
  },
  {
   "cell_type": "code",
   "execution_count": 136,
   "metadata": {},
   "outputs": [
    {
     "data": {
      "image/png": "[encoded data removed]",
      "text/plain": [
       "<Figure size 489.6x432 with 3 Axes>"
      ]
     },
     "metadata": {
      "needs_background": "light"
     },
     "output_type": "display_data"
    }
   ],
   "source": [
    "fig, axes = plt.subplots(nrows=len(availabilities), figsize=(6.8, 6), sharex=True)\n",
    "\n",
    "for a, ax in zip(availabilities, axes): \n",
    "    plot_list = []\n",
    "    plot_df = base_df[base_df[\"sampling_rate\"] == a][[\"design\", \"error\", \"selectivity\"]]    \n",
    "    for d in designs:\n",
    "        curr_list = []\n",
    "        for s in selectivities:\n",
    "            data = plot_df[(plot_df[\"selectivity\"] == s) & (plot_df[\"design\"] == d)][\"error\"].tolist()\n",
    "            curr_list.append(data[0])\n",
    "        plot_list.append(curr_list)\n",
    "\n",
    "    ax.bar(x_locs + offset, plot_list[0], width, color = colors[0], label = designs[0], edgecolor='b', linewidth=0.1)\n",
    "    ax.bar(x_locs, plot_list[1], width, color = colors[1], label = designs[1], edgecolor='b', linewidth=0.1)\n",
    "    ax.bar(x_locs - offset, plot_list[2], width, color = colors[2], label = designs[2], edgecolor='b', linewidth=0.1)\n",
    "\n",
    "    ax.set_xticks(x_locs)\n",
    "    ax.tick_params(axis='both', direction='in')\n",
    "    ax.grid(color='grey', linestyle='dotted', axis='y', which='major')\n",
    "    ax.tick_params(axis=\"x\", bottom=False)\n",
    "    ax.yaxis.set_major_locator(mpl.ticker.MaxNLocator(3))\n",
    "    ax.set_title(\"Availability=\" + str(a) + \"%\")\n",
    "    ax.set_ylabel(\"Error (%)\")\n",
    "    \n",
    "axes[-1].set_xticklabels(selectivity_str)\n",
    "axes[0].legend(loc='upper left', ncol=3, bbox_to_anchor=(0.1, 1.5), frameon=False)\n",
    "axes[-1].set_xlabel(\"Selectivity (%)\")\n",
    "\n",
    "plt.tight_layout()\n",
    "plt.show()\n",
    "plt.close()"
   ]
  },
  {
   "cell_type": "code",
   "execution_count": 4,
   "metadata": {},
   "outputs": [],
   "source": [
    "data_file = \"../variance/results.csv\"\n",
    "data_types = {\"combination\" : \"object\",\n",
    "      \"observed variance\" : \"float64\",\n",
    "      \"c-p-s\": \"float64\",\n",
    "      \"c-s-p\": \"float64\",\n",
    "      \"p-c-s\": \"float64\",\n",
    "      \"p-s-c\": \"float64\",\n",
    "      \"s-c-p\": \"float64\",\n",
    "      \"s-p-c\": \"float64\"}\n",
    "df = pd.read_csv(data_file, dtype=data_types, header=0)"
   ]
  },
  {
   "cell_type": "code",
   "execution_count": 9,
   "metadata": {},
   "outputs": [
    {
     "data": {
      "text/plain": [
       "<matplotlib.axes._subplots.AxesSubplot at 0x1a2099f090>"
      ]
     },
     "execution_count": 9,
     "metadata": {},
     "output_type": "execute_result"
    },
    {
     "data": {
      "image/png": "[encoded data removed]",
      "text/plain": [
       "<Figure size 432x288 with 1 Axes>"
      ]
     },
     "metadata": {
      "needs_background": "light"
     },
     "output_type": "display_data"
    }
   ],
   "source": [
    "df.head(1).plot(kind='bar')"
   ]
  },
  {
   "cell_type": "code",
   "execution_count": 22,
   "metadata": {},
   "outputs": [
    {
     "data": {
      "text/plain": [
       "['c-p-s', 'c-s-p', 'p-c-s', 'p-s-c', 's-c-p', 's-p-c']"
      ]
     },
     "execution_count": 22,
     "metadata": {},
     "output_type": "execute_result"
    }
   ],
   "source": [
    "df.columns[2:].tolist()"
   ]
  },
  {
   "cell_type": "code",
   "execution_count": null,
   "metadata": {},
   "outputs": [],
   "source": []
  }
 ],
 "metadata": {
  "kernelspec": {
   "display_name": "Python 2",
   "language": "python",
   "name": "python2"
  },
  "language_info": {
   "codemirror_mode": {
    "name": "ipython",
    "version": 2
   },
   "file_extension": ".py",
   "mimetype": "text/x-python",
   "name": "python",
   "nbconvert_exporter": "python",
   "pygments_lexer": "ipython2",
   "version": "2.7.16"
  }
 },
 "nbformat": 4,
 "nbformat_minor": 2
}
